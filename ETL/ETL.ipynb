{
 "cells": [
  {
   "cell_type": "markdown",
   "metadata": {
    "application/vnd.databricks.v1+cell": {
     "cellMetadata": {
      "byteLimit": 2048000,
      "rowLimit": 10000
     },
     "inputWidgets": {},
     "nuid": "10a66a15-1e66-4cf2-b86b-2e42631b2a45",
     "showTitle": false,
     "title": ""
    }
   },
   "source": [
    "# Table of Contents\n",
    "  \n",
    "* [Import Packages](#ip)\n",
    "* [Read Data From Azure Data Lake Storage Gen2](#rd)\n",
    "* [Data Cleaning](#dc)\n",
    "    * [Orders](#o)\n",
    "    * [People](#p)\n",
    "    * [Returns](#r)\n",
    "* [Create Customer Summary Table](#cust)\n",
    "* [Acquisition and Churn Analysis](#ac_churn)\n",
    "* [Customer Segmentation using K-means Clustering and RFM Analysis](#cluster)\n",
    "    * [Preprocessing](#preprocess)\n",
    "    * [Model Selection and Model Fitting](#model)\n",
    "* [Load Transformed Data into Delta Lake](#load)"
   ]
  },
  {
   "cell_type": "markdown",
   "metadata": {
    "application/vnd.databricks.v1+cell": {
     "cellMetadata": {
      "byteLimit": 2048000,
      "rowLimit": 10000
     },
     "inputWidgets": {},
     "nuid": "50632cb3-9c75-4445-bf89-37b68b8a454f",
     "showTitle": false,
     "title": ""
    }
   },
   "source": [
    "# Import Packages <a id=\"ip\"></a>"
   ]
  },
  {
   "cell_type": "code",
   "execution_count": 0,
   "metadata": {
    "application/vnd.databricks.v1+cell": {
     "cellMetadata": {
      "byteLimit": 2048000,
      "rowLimit": 10000
     },
     "inputWidgets": {},
     "nuid": "deaba6e8-edc9-4b37-a8ce-b7110db86ca9",
     "showTitle": false,
     "title": ""
    }
   },
   "outputs": [],
   "source": [
    "import pyspark.sql.functions as F\n",
    "from pyspark.sql import Window\n",
    "from pyspark.ml.feature import VectorAssembler, StandardScaler\n",
    "from pyspark.ml.clustering import KMeans\n",
    "from pyspark.ml.evaluation import ClusteringEvaluator\n",
    "import numpy as np"
   ]
  },
  {
   "cell_type": "markdown",
   "metadata": {
    "application/vnd.databricks.v1+cell": {
     "cellMetadata": {
      "byteLimit": 2048000,
      "rowLimit": 10000
     },
     "inputWidgets": {},
     "nuid": "7fc5a125-ddf7-4659-8c5e-d4cbcd8bd977",
     "showTitle": false,
     "title": ""
    }
   },
   "source": [
    "# Read Data From Azure Data Lake Storage Gen2 <a id=\"rd\"></a>"
   ]
  },
  {
   "cell_type": "code",
   "execution_count": 0,
   "metadata": {
    "application/vnd.databricks.v1+cell": {
     "cellMetadata": {
      "byteLimit": 2048000,
      "rowLimit": 10000
     },
     "inputWidgets": {},
     "nuid": "624ca1fc-93a2-4e17-9fe7-a3892fee4266",
     "showTitle": false,
     "title": ""
    }
   },
   "outputs": [],
   "source": [
    "# connect to Azure Data Lake Storage Gen2 using key vault\n",
    "service_credential = dbutils.secrets.get(scope=\"key-vault-secret\",key=\"etl\")\n",
    "\n",
    "spark.conf.set(\"fs.azure.account.auth.type.customeranalysis.dfs.core.windows.net\", \"OAuth\")\n",
    "spark.conf.set(\"fs.azure.account.oauth.provider.type.customeranalysis.dfs.core.windows.net\", \n",
    "               \"org.apache.hadoop.fs.azurebfs.oauth2.ClientCredsTokenProvider\")\n",
    "spark.conf.set(\"fs.azure.account.oauth2.client.id.customeranalysis.dfs.core.windows.net\", \n",
    "               \"887234cf-3091-413a-8188-77ef57a713d8\")\n",
    "spark.conf.set(\"fs.azure.account.oauth2.client.secret.customeranalysis.dfs.core.windows.net\", \n",
    "               service_credential)\n",
    "spark.conf.set(\"fs.azure.account.oauth2.client.endpoint.customeranalysis.dfs.core.windows.net\", \n",
    "               \"https://login.microsoftonline.com/c8097509-77c9-43b0-98e5-fcf963e5156f/oauth2/token\")"
   ]
  },
  {
   "cell_type": "code",
   "execution_count": 0,
   "metadata": {
    "application/vnd.databricks.v1+cell": {
     "cellMetadata": {
      "byteLimit": 2048000,
      "rowLimit": 10000
     },
     "inputWidgets": {},
     "nuid": "fd9377ca-c7d3-49a9-b41a-bc33c02f9ff0",
     "showTitle": false,
     "title": ""
    }
   },
   "outputs": [],
   "source": [
    "# read data\n",
    "orders = spark.read.format('csv').options(header=True, escape='\"', inferSchema=True)\\\n",
    "  .load(\"abfss://data-source@customeranalysis.dfs.core.windows.net/raw-data/orders.csv\")\n",
    "people = spark.read.format('csv').options(header=True, escape='\"', inferSchema=True)\\\n",
    "  .load(\"abfss://data-source@customeranalysis.dfs.core.windows.net/raw-data/people.csv\")\n",
    "returns = spark.read.format('csv').options(header=True, escape='\"', inferSchema=True)\\\n",
    "  .load(\"abfss://data-source@customeranalysis.dfs.core.windows.net/raw-data/returns.csv\")"
   ]
  },
  {
   "cell_type": "markdown",
   "metadata": {
    "application/vnd.databricks.v1+cell": {
     "cellMetadata": {
      "byteLimit": 2048000,
      "rowLimit": 10000
     },
     "inputWidgets": {},
     "nuid": "a31f7f08-2fe2-4973-b92b-26ba60a29cd7",
     "showTitle": false,
     "title": ""
    }
   },
   "source": [
    "# Data Cleaning <a id=\"dc\"></a>"
   ]
  },
  {
   "cell_type": "code",
   "execution_count": 0,
   "metadata": {
    "application/vnd.databricks.v1+cell": {
     "cellMetadata": {
      "byteLimit": 2048000,
      "rowLimit": 10000
     },
     "inputWidgets": {},
     "nuid": "09093662-2cf5-46f8-a1df-447d149e20c5",
     "showTitle": false,
     "title": ""
    }
   },
   "outputs": [],
   "source": [
    "def check_missing_value(df):\n",
    "    temp = df.select([F.sum(F.when(df[c].isNull(), 1).otherwise(0)).alias(c) for c in df.columns]).collect()[0]\n",
    "    if temp.count(0) == len(df.columns):\n",
    "        print('No missing value')\n",
    "    else:\n",
    "        return temp"
   ]
  },
  {
   "cell_type": "markdown",
   "metadata": {
    "application/vnd.databricks.v1+cell": {
     "cellMetadata": {
      "byteLimit": 2048000,
      "rowLimit": 10000
     },
     "inputWidgets": {},
     "nuid": "c0cd87a6-3968-4476-a981-96b4cd4eb38a",
     "showTitle": false,
     "title": ""
    }
   },
   "source": [
    "## Orders <a id=\"o\"></a>"
   ]
  },
  {
   "cell_type": "code",
   "execution_count": 0,
   "metadata": {
    "application/vnd.databricks.v1+cell": {
     "cellMetadata": {
      "byteLimit": 2048000,
      "rowLimit": 10000
     },
     "inputWidgets": {},
     "nuid": "d5cbd172-1b40-47c8-9f21-9eec8c069bbb",
     "showTitle": false,
     "title": ""
    }
   },
   "outputs": [
    {
     "output_type": "stream",
     "name": "stdout",
     "output_type": "stream",
     "text": [
      "root\n |-- Row ID: integer (nullable = true)\n |-- Order ID: string (nullable = true)\n |-- Order Date: date (nullable = true)\n |-- Ship Date: date (nullable = true)\n |-- Ship Mode: string (nullable = true)\n |-- Customer ID: string (nullable = true)\n |-- Customer Name: string (nullable = true)\n |-- Segment: string (nullable = true)\n |-- Country/Region: string (nullable = true)\n |-- City: string (nullable = true)\n |-- State/Province: string (nullable = true)\n |-- Postal Code: string (nullable = true)\n |-- Region: string (nullable = true)\n |-- Product ID: string (nullable = true)\n |-- Category: string (nullable = true)\n |-- Sub-Category: string (nullable = true)\n |-- Product Name: string (nullable = true)\n |-- Sales: double (nullable = true)\n |-- Quantity: integer (nullable = true)\n |-- Discount: double (nullable = true)\n |-- Profit: double (nullable = true)\n\n"
     ]
    }
   ],
   "source": [
    "# inspect schema\n",
    "orders.printSchema()"
   ]
  },
  {
   "cell_type": "code",
   "execution_count": 0,
   "metadata": {
    "application/vnd.databricks.v1+cell": {
     "cellMetadata": {
      "byteLimit": 2048000,
      "rowLimit": 10000
     },
     "inputWidgets": {},
     "nuid": "58d7fdd5-051c-46cc-800a-25eece03a92a",
     "showTitle": false,
     "title": ""
    }
   },
   "outputs": [
    {
     "output_type": "stream",
     "name": "stdout",
     "output_type": "stream",
     "text": [
      "root\n |-- Order ID: string (nullable = true)\n |-- Order Date: date (nullable = true)\n |-- Ship Date: date (nullable = true)\n |-- Ship Mode: string (nullable = true)\n |-- Customer ID: string (nullable = true)\n |-- Customer Name: string (nullable = true)\n |-- Segment: string (nullable = true)\n |-- Country/Region: string (nullable = true)\n |-- City: string (nullable = true)\n |-- State/Province: string (nullable = true)\n |-- Postal Code: string (nullable = true)\n |-- Region: string (nullable = true)\n |-- Product ID: string (nullable = true)\n |-- Category: string (nullable = true)\n |-- Sub-Category: string (nullable = true)\n |-- Product Name: string (nullable = true)\n |-- Sales: double (nullable = true)\n |-- Quantity: integer (nullable = true)\n |-- Discount: double (nullable = true)\n |-- Profit: double (nullable = true)\n\n"
     ]
    }
   ],
   "source": [
    "#drop row id\n",
    "orders = orders.drop('Row ID')\n",
    "orders.printSchema()"
   ]
  },
  {
   "cell_type": "code",
   "execution_count": 0,
   "metadata": {
    "application/vnd.databricks.v1+cell": {
     "cellMetadata": {
      "byteLimit": 2048000,
      "rowLimit": 10000
     },
     "inputWidgets": {},
     "nuid": "3cf84881-f713-4bc7-9488-5e60cdb5cf55",
     "showTitle": false,
     "title": ""
    }
   },
   "outputs": [
    {
     "output_type": "stream",
     "name": "stdout",
     "output_type": "stream",
     "text": [
      "No missing value\n"
     ]
    }
   ],
   "source": [
    "# check missing value\n",
    "check_missing_value(orders)"
   ]
  },
  {
   "cell_type": "code",
   "execution_count": 0,
   "metadata": {
    "application/vnd.databricks.v1+cell": {
     "cellMetadata": {
      "byteLimit": 2048000,
      "rowLimit": 10000
     },
     "inputWidgets": {},
     "nuid": "d4d7511b-6707-40d2-90d0-cad4c9c2bf77",
     "showTitle": false,
     "title": ""
    }
   },
   "outputs": [],
   "source": [
    "# Drop duplicated rows\n",
    "orders = orders.dropDuplicates()"
   ]
  },
  {
   "cell_type": "code",
   "execution_count": 0,
   "metadata": {
    "application/vnd.databricks.v1+cell": {
     "cellMetadata": {
      "byteLimit": 2048000,
      "rowLimit": 10000
     },
     "inputWidgets": {},
     "nuid": "a5bce9b6-129e-427a-bc1a-781595f137a2",
     "showTitle": false,
     "title": ""
    }
   },
   "outputs": [],
   "source": [
    "orders = orders.drop('Product Name')"
   ]
  },
  {
   "cell_type": "markdown",
   "metadata": {
    "application/vnd.databricks.v1+cell": {
     "cellMetadata": {
      "byteLimit": 2048000,
      "rowLimit": 10000
     },
     "inputWidgets": {},
     "nuid": "d196b083-5db5-4264-b01d-fd9c424bd79e",
     "showTitle": false,
     "title": ""
    }
   },
   "source": [
    "## People <a id=\"p\"></a>"
   ]
  },
  {
   "cell_type": "code",
   "execution_count": 0,
   "metadata": {
    "application/vnd.databricks.v1+cell": {
     "cellMetadata": {
      "byteLimit": 2048000,
      "rowLimit": 10000
     },
     "inputWidgets": {},
     "nuid": "931ba763-38a8-407b-9065-8e4b590f848d",
     "showTitle": false,
     "title": ""
    }
   },
   "outputs": [
    {
     "output_type": "stream",
     "name": "stdout",
     "output_type": "stream",
     "text": [
      "root\n |-- Regional Manager: string (nullable = true)\n |-- Region: string (nullable = true)\n\n+-----------------+-------+\n| Regional Manager| Region|\n+-----------------+-------+\n|  Sadie Pawthorne|   West|\n|      Chuck Magee|   East|\n|Roxanne Rodriguez|Central|\n|      Fred Suzuki|  South|\n+-----------------+-------+\n\n"
     ]
    }
   ],
   "source": [
    "#people has only 4 rows with no duplicates and no missing value\n",
    "people.printSchema()\n",
    "people.show(5)"
   ]
  },
  {
   "cell_type": "markdown",
   "metadata": {
    "application/vnd.databricks.v1+cell": {
     "cellMetadata": {
      "byteLimit": 2048000,
      "rowLimit": 10000
     },
     "inputWidgets": {},
     "nuid": "ea8d5b7a-c187-48af-8b2a-da9d4f549292",
     "showTitle": false,
     "title": ""
    }
   },
   "source": [
    "## Returns <a id=\"r\"></a>"
   ]
  },
  {
   "cell_type": "code",
   "execution_count": 0,
   "metadata": {
    "application/vnd.databricks.v1+cell": {
     "cellMetadata": {
      "byteLimit": 2048000,
      "rowLimit": 10000
     },
     "inputWidgets": {},
     "nuid": "fc13319f-39ef-437f-9727-0ede2e361177",
     "showTitle": false,
     "title": ""
    }
   },
   "outputs": [
    {
     "output_type": "stream",
     "name": "stdout",
     "output_type": "stream",
     "text": [
      "root\n |-- Returned: string (nullable = true)\n |-- Order ID: string (nullable = true)\n\n+--------+--------------+\n|Returned|      Order ID|\n+--------+--------------+\n|     Yes|US-2020-100762|\n|     Yes|US-2020-100762|\n|     Yes|US-2020-100762|\n|     Yes|US-2020-100762|\n|     Yes|US-2020-100867|\n+--------+--------------+\nonly showing top 5 rows\n\n"
     ]
    }
   ],
   "source": [
    "# inspect schema\n",
    "returns.printSchema()\n",
    "returns.show(5)"
   ]
  },
  {
   "cell_type": "code",
   "execution_count": 0,
   "metadata": {
    "application/vnd.databricks.v1+cell": {
     "cellMetadata": {
      "byteLimit": 2048000,
      "rowLimit": 10000
     },
     "inputWidgets": {},
     "nuid": "b4109046-c57d-469e-9d84-a81ecba5dc1d",
     "showTitle": false,
     "title": ""
    }
   },
   "outputs": [
    {
     "output_type": "stream",
     "name": "stdout",
     "output_type": "stream",
     "text": [
      "root\n |-- Returned: integer (nullable = false)\n |-- Order ID: string (nullable = true)\n\n"
     ]
    }
   ],
   "source": [
    "#convert to indicator variable\n",
    "returns = returns.withColumn('Returned', F.lit(1))\n",
    "returns.printSchema()"
   ]
  },
  {
   "cell_type": "code",
   "execution_count": 0,
   "metadata": {
    "application/vnd.databricks.v1+cell": {
     "cellMetadata": {
      "byteLimit": 2048000,
      "rowLimit": 10000
     },
     "inputWidgets": {},
     "nuid": "40d0ce61-cd5a-4148-a768-e1dcd9be7e14",
     "showTitle": false,
     "title": ""
    }
   },
   "outputs": [
    {
     "output_type": "stream",
     "name": "stdout",
     "output_type": "stream",
     "text": [
      "No missing value\n"
     ]
    }
   ],
   "source": [
    "# check missing value\n",
    "check_missing_value(returns)"
   ]
  },
  {
   "cell_type": "code",
   "execution_count": 0,
   "metadata": {
    "application/vnd.databricks.v1+cell": {
     "cellMetadata": {
      "byteLimit": 2048000,
      "rowLimit": 10000
     },
     "inputWidgets": {},
     "nuid": "5015d3a9-addc-4003-a6cc-84195747463f",
     "showTitle": false,
     "title": ""
    }
   },
   "outputs": [],
   "source": [
    "# Drop duplicated rows\n",
    "returns = returns.dropDuplicates()"
   ]
  },
  {
   "cell_type": "markdown",
   "metadata": {
    "application/vnd.databricks.v1+cell": {
     "cellMetadata": {
      "byteLimit": 2048000,
      "rowLimit": 10000
     },
     "inputWidgets": {},
     "nuid": "8f4e4f4c-6388-4082-8d73-50017f9f4569",
     "showTitle": false,
     "title": ""
    }
   },
   "source": [
    "# Create Customer Summary Table <a id=\"cust\"></a>"
   ]
  },
  {
   "cell_type": "code",
   "execution_count": 0,
   "metadata": {
    "application/vnd.databricks.v1+cell": {
     "cellMetadata": {
      "byteLimit": 2048000,
      "rowLimit": 10000
     },
     "inputWidgets": {},
     "nuid": "88ab2d0f-9114-46cb-be48-2b73a1193d63",
     "showTitle": false,
     "title": ""
    }
   },
   "outputs": [
    {
     "output_type": "stream",
     "name": "stdout",
     "output_type": "stream",
     "text": [
      "+-----------+----------+----------+------------------+------------------+----------------+\n|Customer ID|first_date| last_date|     total_revenue|      total_profit|total_num_orders|\n+-----------+----------+----------+------------------+------------------+----------------+\n|   VW-21775|2020-05-11|2023-12-02|6134.0380000000005|-874.6645000000001|              10|\n|   PB-19210|2020-11-23|2022-02-11|           132.738|            21.897|               2|\n|   RR-19315|2022-11-14|2023-12-11| 615.9319999999999|-73.83499999999997|               2|\n|   MS-17530|2020-11-04|2022-10-22|           475.656| 84.02679999999995|               4|\n|   EM-13960|2021-10-01|2023-08-01| 933.7040000000001|102.29600000000002|               5|\n|   MY-17380|2021-10-26|2023-12-01|          2254.285|319.12109999999996|               7|\n|   AH-10690|2020-04-02|2022-11-15| 7888.293999999999|1298.0165999999992|              12|\n|   BD-11500|2020-02-01|2023-11-25|          4411.243|1142.1225000000002|               6|\n|   SW-20275|2020-03-10|2023-11-30|           1966.65|          332.8725|               6|\n|   KH-16630|2020-11-01|2023-11-02|          3918.966|          727.3786|               9|\n+-----------+----------+----------+------------------+------------------+----------------+\nonly showing top 10 rows\n\n"
     ]
    }
   ],
   "source": [
    "# compute summary statistics for each customer\n",
    "customers = orders.groupBy('Customer ID').agg(F.min('Order Date').alias('first_date'), \n",
    "                                              F.max('Order Date').alias('last_date'), \n",
    "                                              F.sum('Sales').alias('total_revenue'), \n",
    "                                              F.sum('Profit').alias('total_profit'),\n",
    "                                              F.count_distinct('Order ID').alias('total_num_orders'))\n",
    "customers.show(10)"
   ]
  },
  {
   "cell_type": "code",
   "execution_count": 0,
   "metadata": {
    "application/vnd.databricks.v1+cell": {
     "cellMetadata": {
      "byteLimit": 2048000,
      "rowLimit": 10000
     },
     "inputWidgets": {},
     "nuid": "6e387dbe-f8a6-480f-9924-ae5fb356eadb",
     "showTitle": false,
     "title": ""
    }
   },
   "outputs": [
    {
     "output_type": "stream",
     "name": "stdout",
     "output_type": "stream",
     "text": [
      "+---------------+\n|max(Order Date)|\n+---------------+\n|     2023-12-30|\n+---------------+\n\n"
     ]
    }
   ],
   "source": [
    "# when did the latest transaction happen\n",
    "orders.select(F.max('Order Date')).show()"
   ]
  },
  {
   "cell_type": "code",
   "execution_count": 0,
   "metadata": {
    "application/vnd.databricks.v1+cell": {
     "cellMetadata": {
      "byteLimit": 2048000,
      "rowLimit": 10000
     },
     "inputWidgets": {},
     "nuid": "922aed1c-a6db-4bf7-a48a-f0ec334d2f33",
     "showTitle": false,
     "title": ""
    }
   },
   "outputs": [
    {
     "output_type": "stream",
     "name": "stdout",
     "output_type": "stream",
     "text": [
      "+-----------+----------+----------+------------------+------------------+----------------+----------------+---------------------+\n|Customer ID|first_date| last_date|     total_revenue|      total_profit|total_num_orders|duration_in_days|days_since_last_order|\n+-----------+----------+----------+------------------+------------------+----------------+----------------+---------------------+\n|   VW-21775|2020-05-11|2023-12-02|6134.0380000000005|-874.6645000000001|              10|            1301|                   29|\n|   PB-19210|2020-11-23|2022-02-11|           132.738|            21.897|               2|             446|                  688|\n|   RR-19315|2022-11-14|2023-12-11| 615.9319999999999|-73.83499999999997|               2|             393|                   20|\n|   MS-17530|2020-11-04|2022-10-22|           475.656| 84.02679999999995|               4|             718|                  435|\n|   EM-13960|2021-10-01|2023-08-01| 933.7040000000001|102.29600000000002|               5|             670|                  152|\n|   MY-17380|2021-10-26|2023-12-01|          2254.285|319.12109999999996|               7|             767|                   30|\n|   AH-10690|2020-04-02|2022-11-15| 7888.293999999999|1298.0165999999992|              12|             958|                  411|\n|   BD-11500|2020-02-01|2023-11-25|          4411.243|1142.1225000000002|               6|            1394|                   36|\n|   SW-20275|2020-03-10|2023-11-30|           1966.65|          332.8725|               6|            1361|                   31|\n|   KH-16630|2020-11-01|2023-11-02|          3918.966|          727.3786|               9|            1097|                   59|\n+-----------+----------+----------+------------------+------------------+----------------+----------------+---------------------+\nonly showing top 10 rows\n\n"
     ]
    }
   ],
   "source": [
    "# compute customer lifespan, duration_in_days\n",
    "# compute transaction recency, days_since_last_order\n",
    "# Normally, when computing recency, we should use F.current_date() instead of hard coding, \n",
    "# but let's assume we are now at 2023-12-31, because the dataset only contains record up to 2023-12-30.\n",
    "customers = customers.withColumns({'duration_in_days': F.date_diff('last_date', 'first_date') + 1, \n",
    "                                   'days_since_last_order': F.date_diff(F.lit('2023-12-31').cast('date'), 'last_date')})\n",
    "customers.show(10)"
   ]
  },
  {
   "cell_type": "code",
   "execution_count": 0,
   "metadata": {
    "application/vnd.databricks.v1+cell": {
     "cellMetadata": {
      "byteLimit": 2048000,
      "rowLimit": 10000
     },
     "inputWidgets": {},
     "nuid": "39ae99d4-a05f-4847-b4d7-78d44053f550",
     "showTitle": false,
     "title": ""
    }
   },
   "outputs": [
    {
     "output_type": "stream",
     "name": "stdout",
     "output_type": "stream",
     "text": [
      "+----------------------------+----------------------------+\n|max(avg_num_orders_per_year)|min(avg_num_orders_per_year)|\n+----------------------------+----------------------------+\n|                         5.0|                         1.0|\n+----------------------------+----------------------------+\n\n"
     ]
    }
   ],
   "source": [
    "# count number of orders for each customer and each year\n",
    "num_orders_per_customer_and_year = orders.groupBy(['Customer ID', \n",
    "                                                   F.year(F.col('Order Date')).alias('order_year')])\\\n",
    "                                         .agg(F.count_distinct('Order ID').alias('num_orders'))\n",
    "# compute average number of yearly orders for each customer\n",
    "avg_num_order = num_orders_per_customer_and_year.groupBy('Customer ID')\\\n",
    "                                                .agg(F.avg('num_orders')\\\n",
    "                                                .alias('avg_num_orders_per_year'))\n",
    "# check maximum and minimum of average number of yearly orders\n",
    "avg_num_order.select(F.max('avg_num_orders_per_year'), F.min('avg_num_orders_per_year')).show()"
   ]
  },
  {
   "cell_type": "code",
   "execution_count": 0,
   "metadata": {
    "application/vnd.databricks.v1+cell": {
     "cellMetadata": {
      "byteLimit": 2048000,
      "rowLimit": 10000
     },
     "inputWidgets": {},
     "nuid": "640c6466-9a97-411b-8661-3edd5693d61c",
     "showTitle": false,
     "title": ""
    }
   },
   "outputs": [
    {
     "output_type": "stream",
     "name": "stdout",
     "output_type": "stream",
     "text": [
      "+--------+----------+----------+------------------+------------------+----------------+----------------+---------------------+-----------------------+\n| cust_id|first_date| last_date|     total_revenue|      total_profit|total_num_orders|duration_in_days|days_since_last_order|avg_num_orders_per_year|\n+--------+----------+----------+------------------+------------------+----------------+----------------+---------------------+-----------------------+\n|VW-21775|2020-05-11|2023-12-02|6134.0380000000005|-874.6645000000001|              10|            1301|                   29|                    2.5|\n|PB-19210|2020-11-23|2022-02-11|           132.738|            21.897|               2|             446|                  688|                    1.0|\n|RR-19315|2022-11-14|2023-12-11| 615.9319999999999|-73.83499999999997|               2|             393|                   20|                    1.0|\n|MS-17530|2020-11-04|2022-10-22|           475.656| 84.02679999999995|               4|             718|                  435|     1.3333333333333333|\n|EM-13960|2021-10-01|2023-08-01| 933.7040000000001|102.29600000000002|               5|             670|                  152|                    2.5|\n|MY-17380|2021-10-26|2023-12-01|          2254.285|319.12109999999996|               7|             767|                   30|     2.3333333333333335|\n|AH-10690|2020-04-02|2022-11-15| 7888.293999999999|1298.0165999999992|              12|             958|                  411|                    4.0|\n|BD-11500|2020-02-01|2023-11-25|          4411.243|1142.1225000000002|               6|            1394|                   36|                    2.0|\n|SW-20275|2020-03-10|2023-11-30|           1966.65|          332.8725|               6|            1361|                   31|                    2.0|\n|KH-16630|2020-11-01|2023-11-02|          3918.966|          727.3786|               9|            1097|                   59|                   2.25|\n+--------+----------+----------+------------------+------------------+----------------+----------------+---------------------+-----------------------+\nonly showing top 10 rows\n\n"
     ]
    }
   ],
   "source": [
    "customers = customers.join(avg_num_order, 'Customer ID', 'inner').withColumnRenamed('Customer ID', 'cust_id')\n",
    "customers.show(10)"
   ]
  },
  {
   "cell_type": "markdown",
   "metadata": {
    "application/vnd.databricks.v1+cell": {
     "cellMetadata": {
      "byteLimit": 2048000,
      "rowLimit": 10000
     },
     "inputWidgets": {},
     "nuid": "6392fb66-9102-4046-9f13-f8a6b94c4560",
     "showTitle": false,
     "title": ""
    }
   },
   "source": [
    "# Acquisition and Churn Analysis <a id=\"ac_churn\"></a>"
   ]
  },
  {
   "cell_type": "code",
   "execution_count": 0,
   "metadata": {
    "application/vnd.databricks.v1+cell": {
     "cellMetadata": {
      "byteLimit": 2048000,
      "rowLimit": 10000
     },
     "inputWidgets": {},
     "nuid": "b3280634-9e17-473e-817d-3e2ffbc1f21b",
     "showTitle": false,
     "title": ""
    }
   },
   "outputs": [
    {
     "output_type": "stream",
     "name": "stdout",
     "output_type": "stream",
     "text": [
      "+--------+----------+----------+------------------+------------------+----------------+----------------+---------------------+-----------------------+----------+\n| cust_id|first_date| last_date|     total_revenue|      total_profit|total_num_orders|duration_in_days|days_since_last_order|avg_num_orders_per_year|churned_at|\n+--------+----------+----------+------------------+------------------+----------------+----------------+---------------------+-----------------------+----------+\n|VW-21775|2020-05-11|2023-12-02|6134.0380000000005|-874.6645000000001|              10|            1301|                   29|                    2.5|      NULL|\n|PB-19210|2020-11-23|2022-02-11|           132.738|            21.897|               2|             446|                  688|                    1.0|2023-02-11|\n|RR-19315|2022-11-14|2023-12-11| 615.9319999999999|-73.83499999999997|               2|             393|                   20|                    1.0|      NULL|\n|MS-17530|2020-11-04|2022-10-22|           475.656| 84.02679999999995|               4|             718|                  435|     1.3333333333333333|2023-10-22|\n|EM-13960|2021-10-01|2023-08-01| 933.7040000000001|102.29600000000002|               5|             670|                  152|                    2.5|      NULL|\n|MY-17380|2021-10-26|2023-12-01|          2254.285|319.12109999999996|               7|             767|                   30|     2.3333333333333335|      NULL|\n|AH-10690|2020-04-02|2022-11-15| 7888.293999999999|1298.0165999999992|              12|             958|                  411|                    4.0|2023-11-15|\n|BD-11500|2020-02-01|2023-11-25|          4411.243|1142.1225000000002|               6|            1394|                   36|                    2.0|      NULL|\n|SW-20275|2020-03-10|2023-11-30|           1966.65|          332.8725|               6|            1361|                   31|                    2.0|      NULL|\n|KH-16630|2020-11-01|2023-11-02|          3918.966|          727.3786|               9|            1097|                   59|                   2.25|      NULL|\n+--------+----------+----------+------------------+------------------+----------------+----------------+---------------------+-----------------------+----------+\nonly showing top 10 rows\n\n"
     ]
    }
   ],
   "source": [
    "# a customer is considered as churned after <churn_window> days of inactivity, i.e. no transaction\n",
    "churn_window = 365\n",
    "customers = customers.withColumn('churned_at', \n",
    "                                 F.when(F.date_add(F.col('last_date'), churn_window) > F.lit('2023-12-31').cast('date'), None)\\\n",
    "                                  .otherwise(F.date_add(F.col('last_date'), churn_window)))\n",
    "customers.show(10)"
   ]
  },
  {
   "cell_type": "code",
   "execution_count": 0,
   "metadata": {
    "application/vnd.databricks.v1+cell": {
     "cellMetadata": {
      "byteLimit": 2048000,
      "rowLimit": 10000
     },
     "inputWidgets": {},
     "nuid": "88033c71-42ec-49e2-bba7-cf76ab50acc9",
     "showTitle": false,
     "title": ""
    }
   },
   "outputs": [
    {
     "output_type": "stream",
     "name": "stdout",
     "output_type": "stream",
     "text": [
      "+--------+----------+----------+----------+\n| cust_id|first_date| last_date|churned_at|\n+--------+----------+----------+----------+\n|VW-21775|2020-05-11|2023-12-02|      NULL|\n|PB-19210|2020-11-23|2022-02-11|2023-02-11|\n|RR-19315|2022-11-14|2023-12-11|      NULL|\n|MS-17530|2020-11-04|2022-10-22|2023-10-22|\n|EM-13960|2021-10-01|2023-08-01|      NULL|\n|MY-17380|2021-10-26|2023-12-01|      NULL|\n|BD-11500|2020-02-01|2023-11-25|      NULL|\n|SW-20275|2020-03-10|2023-11-30|      NULL|\n|AH-10690|2020-04-02|2022-11-15|2023-11-15|\n|KH-16630|2020-11-01|2023-11-02|      NULL|\n+--------+----------+----------+----------+\nonly showing top 10 rows\n\n"
     ]
    }
   ],
   "source": [
    "# select the columns we need for computing acquisition and churn\n",
    "temp = customers.select('cust_id', 'first_date', 'last_date', 'churned_at')\n",
    "temp.show(10)"
   ]
  },
  {
   "cell_type": "code",
   "execution_count": 0,
   "metadata": {
    "application/vnd.databricks.v1+cell": {
     "cellMetadata": {
      "byteLimit": 2048000,
      "rowLimit": 10000
     },
     "inputWidgets": {},
     "nuid": "74f5f8e5-be21-4231-80ea-cd335792d1f6",
     "showTitle": false,
     "title": ""
    }
   },
   "outputs": [
    {
     "output_type": "stream",
     "name": "stdout",
     "output_type": "stream",
     "text": [
      "+----------+-----------+\n|year_month|num_churned|\n+----------+-----------+\n|2021-10-01|          1|\n|2021-11-01|          1|\n|2021-12-01|          1|\n|2022-03-01|          1|\n|2022-04-01|          1|\n|2022-08-01|          1|\n|2022-09-01|          2|\n|2022-10-01|          2|\n|2022-11-01|          7|\n|2022-12-01|          3|\n+----------+-----------+\nonly showing top 10 rows\n\n"
     ]
    }
   ],
   "source": [
    "# number of churns by year_month\n",
    "churn = temp.dropna()\\\n",
    "            .groupBy(F.date_trunc('month', 'churned_at').cast('date').alias('year_month'))\\\n",
    "            .agg(F.count('cust_id').alias('num_churned'))\\\n",
    "            .orderBy('year_month')\n",
    "churn.show(10)"
   ]
  },
  {
   "cell_type": "code",
   "execution_count": 0,
   "metadata": {
    "application/vnd.databricks.v1+cell": {
     "cellMetadata": {
      "byteLimit": 2048000,
      "rowLimit": 10000
     },
     "inputWidgets": {},
     "nuid": "1727ca5a-7802-4ee4-b8c6-49adbe593407",
     "showTitle": false,
     "title": ""
    }
   },
   "outputs": [
    {
     "output_type": "stream",
     "name": "stdout",
     "output_type": "stream",
     "text": [
      "+----------+------------+\n|year_month|num_acquired|\n+----------+------------+\n|2020-01-01|          33|\n|2020-02-01|          24|\n|2020-03-01|          66|\n|2020-04-01|          55|\n|2020-05-01|          57|\n|2020-06-01|          49|\n|2020-07-01|          44|\n|2020-08-01|          52|\n|2020-09-01|          68|\n|2020-10-01|          43|\n+----------+------------+\nonly showing top 10 rows\n\n"
     ]
    }
   ],
   "source": [
    "# number of acquisition by year_month\n",
    "acquisition = temp.groupBy(F.date_trunc('month', 'first_date').cast('date').alias('year_month'))\\\n",
    "                  .agg(F.count('cust_id').alias('num_acquired'))\\\n",
    "                  .orderBy('year_month')\n",
    "acquisition.show(10)"
   ]
  },
  {
   "cell_type": "code",
   "execution_count": 0,
   "metadata": {
    "application/vnd.databricks.v1+cell": {
     "cellMetadata": {
      "byteLimit": 2048000,
      "rowLimit": 10000
     },
     "inputWidgets": {},
     "nuid": "d1d71b62-16d9-49a6-b7ac-52689f5dd774",
     "showTitle": false,
     "title": ""
    }
   },
   "outputs": [
    {
     "output_type": "stream",
     "name": "stdout",
     "output_type": "stream",
     "text": [
      "+----------+------------+-----------+-------------+--------+---------------------+\n|year_month|num_acquired|num_churned|net_cust_gain|num_cust|churn_rate_in_percent|\n+----------+------------+-----------+-------------+--------+---------------------+\n|2020-01-01|          33|          0|           33|      33|                 NULL|\n|2020-02-01|          24|          0|           24|      57|                  0.0|\n|2020-03-01|          66|          0|           66|     123|                  0.0|\n|2020-04-01|          55|          0|           55|     178|                  0.0|\n|2020-05-01|          57|          0|           57|     235|                  0.0|\n|2020-06-01|          49|          0|           49|     284|                  0.0|\n|2020-07-01|          44|          0|           44|     328|                  0.0|\n|2020-08-01|          52|          0|           52|     380|                  0.0|\n|2020-09-01|          68|          0|           68|     448|                  0.0|\n|2020-10-01|          43|          0|           43|     491|                  0.0|\n|2020-11-01|          63|          0|           63|     554|                  0.0|\n|2020-12-01|          51|          0|           51|     605|                  0.0|\n|2021-01-01|           7|          0|            7|     612|                  0.0|\n|2021-02-01|           7|          0|            7|     619|                  0.0|\n|2021-03-01|          18|          0|           18|     637|                  0.0|\n|2021-04-01|          10|          0|           10|     647|                  0.0|\n|2021-05-01|          12|          0|           12|     659|                  0.0|\n|2021-06-01|          12|          0|           12|     671|                  0.0|\n|2021-07-01|           8|          0|            8|     679|                  0.0|\n|2021-08-01|          11|          0|           11|     690|                  0.0|\n|2021-09-01|          15|          0|           15|     705|                  0.0|\n|2021-10-01|           9|          1|            8|     713|                 0.14|\n|2021-11-01|           9|          1|            8|     721|                 0.14|\n|2021-12-01|          13|          1|           12|     733|                 0.14|\n|2022-01-01|           6|          0|            6|     739|                  0.0|\n|2022-02-01|           2|          0|            2|     741|                  0.0|\n|2022-03-01|           7|          1|            6|     747|                 0.13|\n|2022-04-01|           7|          1|            6|     753|                 0.13|\n|2022-05-01|           7|          0|            7|     760|                  0.0|\n|2022-06-01|          12|          0|           12|     772|                  0.0|\n|2022-07-01|           2|          0|            2|     774|                  0.0|\n|2022-08-01|           4|          1|            3|     777|                 0.13|\n|2022-09-01|           1|          2|           -1|     776|                 0.26|\n|2022-10-01|           1|          2|           -1|     775|                 0.26|\n|2022-11-01|           6|          7|           -1|     774|                  0.9|\n|2022-12-01|           2|          3|           -1|     773|                 0.39|\n|2023-01-01|           0|          4|           -4|     769|                 0.52|\n|2023-02-01|           0|          2|           -2|     767|                 0.26|\n|2023-03-01|           3|          2|            1|     768|                 0.26|\n|2023-04-01|           1|          2|           -1|     767|                 0.26|\n|2023-05-01|           0|          5|           -5|     762|                 0.65|\n|2023-06-01|           1|          5|           -4|     758|                 0.66|\n|2023-07-01|           2|          6|           -4|     754|                 0.79|\n|2023-08-01|           0|          5|           -5|     749|                 0.66|\n|2023-09-01|           1|         10|           -9|     740|                 1.34|\n|2023-10-01|           2|          5|           -3|     737|                 0.68|\n|2023-11-01|           1|         20|          -19|     718|                 2.71|\n|2023-12-01|           0|         14|          -14|     704|                 1.95|\n+----------+------------+-----------+-------------+--------+---------------------+\n\n"
     ]
    }
   ],
   "source": [
    "# compute net customer gain, number of customers, and churn rate for each year_month\n",
    "window = Window.orderBy('year_month').rowsBetween(Window.unboundedPreceding, Window.currentRow)\n",
    "ts = acquisition.join(churn, 'year_month', 'full')\\\n",
    "                .orderBy('year_month')\\\n",
    "                .withColumns({'num_acquired': F.when(F.col('num_acquired').isNull(), 0).otherwise(F.col('num_acquired')), \n",
    "                              'num_churned': F.when(F.col('num_churned').isNull(), 0).otherwise(F.col('num_churned'))})\\\n",
    "                .withColumn('net_cust_gain', F.col('num_acquired')-F.col('num_churned'))\\\n",
    "                .withColumn('num_cust', F.sum(F.col('net_cust_gain')).over(window))\\\n",
    "                .withColumn('churn_rate_in_percent', \n",
    "                            F.round(F.col('num_churned')/F.lag('num_cust', 1).over(Window.orderBy('year_month'))*100, 2))\n",
    "ts.show(50)"
   ]
  },
  {
   "cell_type": "markdown",
   "metadata": {
    "application/vnd.databricks.v1+cell": {
     "cellMetadata": {
      "byteLimit": 2048000,
      "rowLimit": 10000
     },
     "inputWidgets": {},
     "nuid": "cf967739-5156-49e6-a048-afade27e61cd",
     "showTitle": false,
     "title": ""
    }
   },
   "source": [
    "# Customer Segmentation using K-means Clustering and RFM Analysis <a id=\"cluster\"></a>"
   ]
  },
  {
   "cell_type": "markdown",
   "metadata": {
    "application/vnd.databricks.v1+cell": {
     "cellMetadata": {
      "byteLimit": 2048000,
      "rowLimit": 10000
     },
     "inputWidgets": {},
     "nuid": "2aa3bb47-a709-4bec-93c0-43b3f61cbe8e",
     "showTitle": false,
     "title": ""
    }
   },
   "source": [
    "## Preprocessing <a id=\"preprocess\"></a>"
   ]
  },
  {
   "cell_type": "code",
   "execution_count": 0,
   "metadata": {
    "application/vnd.databricks.v1+cell": {
     "cellMetadata": {
      "byteLimit": 2048000,
      "rowLimit": 10000
     },
     "inputWidgets": {},
     "nuid": "d593456b-de0d-458f-b060-70970cf43b25",
     "showTitle": false,
     "title": ""
    }
   },
   "outputs": [
    {
     "output_type": "stream",
     "name": "stdout",
     "output_type": "stream",
     "text": [
      "+--------+---------------------+-----------------------+------------------+\n| cust_id|days_since_last_order|avg_num_orders_per_year|      total_profit|\n+--------+---------------------+-----------------------+------------------+\n|VW-21775|                   29|                    2.5|-874.6645000000001|\n|RR-19315|                   20|                    1.0|-73.83499999999995|\n|PB-19210|                  688|                    1.0|            21.897|\n|MS-17530|                  435|     1.3333333333333333| 84.02679999999998|\n|EM-13960|                  152|                    2.5|102.29600000000002|\n|MY-17380|                   30|     2.3333333333333335|319.12109999999996|\n|BD-11500|                   36|                    2.0|         1142.1225|\n|AH-10690|                  411|                    4.0|1298.0165999999995|\n|SW-20275|                   31|                    2.0|          332.8725|\n|KH-16630|                   59|                   2.25|          727.3786|\n+--------+---------------------+-----------------------+------------------+\nonly showing top 10 rows\n\n"
     ]
    }
   ],
   "source": [
    "# select the features we need (recency, frequency, monetary value) for customer segmentation\n",
    "rfm_data = customers.select('cust_id', 'days_since_last_order', 'avg_num_orders_per_year', 'total_profit')\n",
    "rfm_data.show(10)"
   ]
  },
  {
   "cell_type": "code",
   "execution_count": 0,
   "metadata": {
    "application/vnd.databricks.v1+cell": {
     "cellMetadata": {
      "byteLimit": 2048000,
      "rowLimit": 10000
     },
     "inputWidgets": {},
     "nuid": "fd6f76c6-9982-40f2-9b03-fa38bdd078bb",
     "showTitle": false,
     "title": ""
    }
   },
   "outputs": [
    {
     "output_type": "stream",
     "name": "stdout",
     "output_type": "stream",
     "text": [
      "+--------+---------------------+-----------------------+------------------+--------------------+\n| cust_id|days_since_last_order|avg_num_orders_per_year|      total_profit|            features|\n+--------+---------------------+-----------------------+------------------+--------------------+\n|VW-21775|                   29|                    2.5|-874.6645000000001|[29.0,2.5,-874.66...|\n|RR-19315|                   20|                    1.0|-73.83499999999995|[20.0,1.0,-73.834...|\n|PB-19210|                  688|                    1.0|            21.897|  [688.0,1.0,21.897]|\n|MS-17530|                  435|     1.3333333333333333| 84.02679999999998|[435.0,1.33333333...|\n|EM-13960|                  152|                    2.5|102.29600000000002|[152.0,2.5,102.29...|\n|MY-17380|                   30|     2.3333333333333335|319.12109999999996|[30.0,2.333333333...|\n|BD-11500|                   36|                    2.0|         1142.1225|[36.0,2.0,1142.1225]|\n|AH-10690|                  411|                    4.0|1298.0165999999995|[411.0,4.0,1298.0...|\n|SW-20275|                   31|                    2.0|          332.8725| [31.0,2.0,332.8725]|\n|KH-16630|                   59|                   2.25|          727.3786|[59.0,2.25,727.3786]|\n+--------+---------------------+-----------------------+------------------+--------------------+\nonly showing top 10 rows\n\n"
     ]
    }
   ],
   "source": [
    "# feature processing\n",
    "vecAssembler = VectorAssembler(inputCols = ['days_since_last_order', 'avg_num_orders_per_year', 'total_profit'], outputCol='features')\n",
    "rfm_data = vecAssembler.transform(rfm_data)\n",
    "rfm_data.show(10)"
   ]
  },
  {
   "cell_type": "code",
   "execution_count": 0,
   "metadata": {
    "application/vnd.databricks.v1+cell": {
     "cellMetadata": {
      "byteLimit": 2048000,
      "rowLimit": 10000
     },
     "inputWidgets": {},
     "nuid": "f184b981-3c7a-4e9b-a477-efc2862e417a",
     "showTitle": false,
     "title": ""
    }
   },
   "outputs": [
    {
     "output_type": "stream",
     "name": "stdout",
     "output_type": "stream",
     "text": [
      "+--------+---------------------+-----------------------+------------------+--------------------+--------------------+\n| cust_id|days_since_last_order|avg_num_orders_per_year|      total_profit|            features|     scaled_features|\n+--------+---------------------+-----------------------+------------------+--------------------+--------------------+\n|VW-21775|                   29|                    2.5|-874.6645000000001|[29.0,2.5,-874.66...|[0.15630755307589...|\n|RR-19315|                   20|                    1.0|-73.83499999999995|[20.0,1.0,-73.834...|[0.10779831246613...|\n|PB-19210|                  688|                    1.0|            21.897|  [688.0,1.0,21.897]|[3.70826194883514...|\n|MS-17530|                  435|     1.3333333333333333| 84.02679999999998|[435.0,1.33333333...|[2.34461329613849...|\n|EM-13960|                  152|                    2.5|102.29600000000002|[152.0,2.5,102.29...|[0.81926717474264...|\n|MY-17380|                   30|     2.3333333333333335|319.12109999999996|[30.0,2.333333333...|[0.16169746869920...|\n|BD-11500|                   36|                    2.0|         1142.1225|[36.0,2.0,1142.1225]|[0.19403696243904...|\n|AH-10690|                  411|                    4.0|1298.0165999999995|[411.0,4.0,1298.0...|[2.21525532117913...|\n|SW-20275|                   31|                    2.0|          332.8725| [31.0,2.0,332.8725]|[0.16708738432251...|\n|KH-16630|                   59|                   2.25|          727.3786|[59.0,2.25,727.3786]|[0.31800502177510...|\n+--------+---------------------+-----------------------+------------------+--------------------+--------------------+\nonly showing top 10 rows\n\n"
     ]
    }
   ],
   "source": [
    "# feature scaling\n",
    "scaler = StandardScaler(inputCol='features', outputCol='scaled_features')\n",
    "model = scaler.fit(rfm_data)\n",
    "rfm_data = model.transform(rfm_data)\n",
    "rfm_data.show(10)"
   ]
  },
  {
   "cell_type": "markdown",
   "metadata": {
    "application/vnd.databricks.v1+cell": {
     "cellMetadata": {
      "byteLimit": 2048000,
      "rowLimit": 10000
     },
     "inputWidgets": {},
     "nuid": "60daaa49-03fa-4f8e-b47d-98d9b5d287c9",
     "showTitle": false,
     "title": ""
    }
   },
   "source": [
    "## Model Selection and Model Fitting <a id=\"model\"></a>"
   ]
  },
  {
   "cell_type": "code",
   "execution_count": 0,
   "metadata": {
    "application/vnd.databricks.v1+cell": {
     "cellMetadata": {
      "byteLimit": 2048000,
      "rowLimit": 10000
     },
     "inputWidgets": {},
     "nuid": "0b22e6ac-61e5-4eb4-affb-c8a03748ca4c",
     "showTitle": false,
     "title": ""
    }
   },
   "outputs": [
    {
     "output_type": "stream",
     "name": "stdout",
     "output_type": "stream",
     "text": [
      "Silhouette Score for k = 3 is 0.4794399225833959\nSilhouette Score for k = 4 is 0.41584983809771275\nSilhouette Score for k = 5 is 0.5238644562175873\nSilhouette Score for k = 6 is 0.48980065185434263\nSilhouette Score for k = 7 is 0.47560947340326315\nSilhouette Score for k = 8 is 0.45034967395821696\nSilhouette Score for k = 9 is 0.47110414310160775\n"
     ]
    }
   ],
   "source": [
    "# decide the number of cluster using Silhouette score\n",
    "evaluator = ClusteringEvaluator(predictionCol='prediction', featuresCol='scaled_features')\n",
    "scores = []\n",
    "# repartition for efficiency\n",
    "rfm_data = rfm_data.repartition(10)\n",
    "# set random seed\n",
    "seed = 12345\n",
    "# list of potential cluster number, 1 and 2 are discarded as they are not very informative\n",
    "ks = list(range(3, 10))\n",
    "\n",
    "for k in ks: \n",
    "    kmeans = KMeans(featuresCol='scaled_features', k=k, seed=seed) \n",
    "    model = kmeans.fit(rfm_data) \n",
    "    preds = model.transform(rfm_data)\n",
    "    score = evaluator.evaluate(preds)\n",
    "    scores.append(score)\n",
    "    print(f'Silhouette Score for k = {k} is {score}')\n",
    "\n",
    "# record the best number of cluster\n",
    "best_k = ks[np.argmax(scores)]"
   ]
  },
  {
   "cell_type": "code",
   "execution_count": 0,
   "metadata": {
    "application/vnd.databricks.v1+cell": {
     "cellMetadata": {
      "byteLimit": 2048000,
      "rowLimit": 10000
     },
     "inputWidgets": {},
     "nuid": "a42872e6-2374-4264-9708-c773ac899c12",
     "showTitle": false,
     "title": ""
    }
   },
   "outputs": [
    {
     "output_type": "stream",
     "name": "stdout",
     "output_type": "stream",
     "text": [
      "+--------+---------------------+-----------------------+------------------+--------------------+--------------------+----------+\n| cust_id|days_since_last_order|avg_num_orders_per_year|      total_profit|            features|     scaled_features|prediction|\n+--------+---------------------+-----------------------+------------------+--------------------+--------------------+----------+\n|JF-15565|                   55|                    2.0|         1073.2088|[55.0,2.0,1073.2088]|[0.29644535928187...|         1|\n|SC-20050|                   41|                   2.25|1011.7442999999996|[41.0,2.25,1011.7...|[0.22098654055558...|         0|\n|LB-16795|                  153|     2.6666666666666665|-40.13220000000007|[153.0,2.66666666...|[0.82465709036595...|         0|\n|JK-15625|                   62|     2.3333333333333335| 750.9484999999999|[62.0,2.333333333...|[0.33417476864502...|         0|\n|JD-16060|                  301|                    1.0|          111.1141|[301.0,1.0,111.1141]|[1.62236460261537...|         1|\n|CC-12220|                   21|                    3.0| 393.9617999999998|[21.0,3.0,393.961...|[0.11318822808944...|         0|\n|EH-14185|                  106|                    2.0|242.11069999999995|[106.0,2.0,242.11...|[0.57133105607053...|         1|\n|RS-19870|                   20|                    1.0|            9.5838|   [20.0,1.0,9.5838]|[0.10779831246613...|         1|\n|KC-16255|                  408|                    2.0|          846.1217|[408.0,2.0,846.1217]|[2.19908557430921...|         4|\n|LC-16960|                  437|                    2.0| 299.4802000000001|[437.0,2.0,299.48...|[2.35539312738511...|         4|\n+--------+---------------------+-----------------------+------------------+--------------------+--------------------+----------+\nonly showing top 10 rows\n\n"
     ]
    }
   ],
   "source": [
    "# fit the model using best k\n",
    "kmeans = KMeans(featuresCol='scaled_features', k=best_k, seed=seed)\n",
    "model = kmeans.fit(rfm_data)\n",
    "preds = model.transform(rfm_data)\n",
    "preds.show(10)"
   ]
  },
  {
   "cell_type": "code",
   "execution_count": 0,
   "metadata": {
    "application/vnd.databricks.v1+cell": {
     "cellMetadata": {
      "byteLimit": 2048000,
      "rowLimit": 10000
     },
     "inputWidgets": {},
     "nuid": "003e008a-667a-47b4-ae7f-1e383c86fa6b",
     "showTitle": false,
     "title": ""
    }
   },
   "outputs": [
    {
     "output_type": "stream",
     "name": "stdout",
     "output_type": "stream",
     "text": [
      "+--------+----------+----------+------------------+------------------+----------------+----------------+---------------------+-----------------------+----------+-------+\n| cust_id|first_date| last_date|     total_revenue|      total_profit|total_num_orders|duration_in_days|days_since_last_order|avg_num_orders_per_year|churned_at|cluster|\n+--------+----------+----------+------------------+------------------+----------------+----------------+---------------------+-----------------------+----------+-------+\n|VW-21775|2020-05-11|2023-12-02|6134.0380000000005|-874.6645000000001|              10|            1301|                   29|                    2.5|      NULL|      0|\n|PB-19210|2020-11-23|2022-02-11|           132.738|            21.897|               2|             446|                  688|                    1.0|2023-02-11|      4|\n|RR-19315|2022-11-14|2023-12-11| 615.9319999999999|-73.83499999999997|               2|             393|                   20|                    1.0|      NULL|      1|\n|MS-17530|2020-11-04|2022-10-22|           475.656| 84.02679999999995|               4|             718|                  435|     1.3333333333333333|2023-10-22|      4|\n|EM-13960|2021-10-01|2023-08-01| 933.7040000000001|102.29600000000002|               5|             670|                  152|                    2.5|      NULL|      0|\n|MY-17380|2021-10-26|2023-12-01|          2254.285|319.12109999999996|               7|             767|                   30|     2.3333333333333335|      NULL|      0|\n|AH-10690|2020-04-02|2022-11-15| 7888.293999999999|1298.0165999999992|              12|             958|                  411|                    4.0|2023-11-15|      0|\n|BD-11500|2020-02-01|2023-11-25|          4411.243|1142.1225000000002|               6|            1394|                   36|                    2.0|      NULL|      1|\n|SW-20275|2020-03-10|2023-11-30|           1966.65|          332.8725|               6|            1361|                   31|                    2.0|      NULL|      1|\n|KH-16630|2020-11-01|2023-11-02|          3918.966|          727.3786|               9|            1097|                   59|                   2.25|      NULL|      0|\n+--------+----------+----------+------------------+------------------+----------------+----------------+---------------------+-----------------------+----------+-------+\nonly showing top 10 rows\n\n"
     ]
    }
   ],
   "source": [
    "# join the cluster back to the summary table of customer\n",
    "customers = customers.join(preds.select('cust_id', 'prediction').withColumnRenamed('prediction', 'cluster'), 'cust_id', 'inner')\n",
    "customers.show(10)"
   ]
  },
  {
   "cell_type": "markdown",
   "metadata": {
    "application/vnd.databricks.v1+cell": {
     "cellMetadata": {
      "byteLimit": 2048000,
      "rowLimit": 10000
     },
     "inputWidgets": {},
     "nuid": "2be23a5c-62d5-4aab-a0df-a714865a4ce7",
     "showTitle": false,
     "title": ""
    }
   },
   "source": [
    "# Load Transformed Data into Delta Lake <a id=\"load\"></a>"
   ]
  },
  {
   "cell_type": "code",
   "execution_count": 0,
   "metadata": {
    "application/vnd.databricks.v1+cell": {
     "cellMetadata": {
      "byteLimit": 2048000,
      "rowLimit": 10000
     },
     "inputWidgets": {},
     "nuid": "b4cc9b99-a014-4983-885b-6d02015d5cd4",
     "showTitle": false,
     "title": ""
    }
   },
   "outputs": [],
   "source": [
    "# final adjustment to make column names nicely formatted\n",
    "def rename_columns(df):\n",
    "    return df.select([df[c].alias(c.lower().replace(' ', '_').replace('/', '_').replace('-', '_')) for c in df.columns])\n",
    "\n",
    "orders = rename_columns(orders)\n",
    "people = rename_columns(people)\n",
    "returns = rename_columns(returns)\n",
    "ts = rename_columns(ts)\n",
    "customers = rename_columns(customers)"
   ]
  },
  {
   "cell_type": "code",
   "execution_count": 0,
   "metadata": {
    "application/vnd.databricks.v1+cell": {
     "cellMetadata": {
      "byteLimit": 2048000,
      "rowLimit": 10000
     },
     "inputWidgets": {},
     "nuid": "e40c73af-b857-42ad-a720-6fc2df746470",
     "showTitle": false,
     "title": ""
    }
   },
   "outputs": [],
   "source": [
    "orders.write.format(\"delta\").mode('overwrite').saveAsTable(\"orders\")\n",
    "people.write.format(\"delta\").mode('overwrite').saveAsTable(\"people\")\n",
    "returns.write.format(\"delta\").mode('overwrite').saveAsTable(\"returns\")\n",
    "ts.write.format(\"delta\").mode('overwrite').saveAsTable(\"ts\")\n",
    "customers.write.format(\"delta\").mode('overwrite').saveAsTable(\"customers\")"
   ]
  }
 ],
 "metadata": {
  "application/vnd.databricks.v1+notebook": {
   "dashboards": [],
   "language": "python",
   "notebookMetadata": {
    "mostRecentlyExecutedCommandWithImplicitDF": {
     "commandId": 2539430340417502,
     "dataframes": [
      "_sqldf"
     ]
    },
    "pythonIndentUnit": 4
   },
   "notebookName": "ETL",
   "widgets": {}
  }
 },
 "nbformat": 4,
 "nbformat_minor": 0
}
